{
 "cells": [
  {
   "cell_type": "code",
   "execution_count": 87,
   "id": "9d216a83",
   "metadata": {},
   "outputs": [],
   "source": [
    "import os\n",
    "import h5py\n",
    "import glob\n",
    "import math\n",
    "\n",
    "import numpy      as np\n",
    "import tensorflow as tf\n",
    "\n",
    "from sklearn.preprocessing import MinMaxScaler"
   ]
  },
  {
   "cell_type": "code",
   "execution_count": 88,
   "id": "3b5f1b31",
   "metadata": {},
   "outputs": [],
   "source": [
    "%matplotlib inline"
   ]
  },
  {
   "cell_type": "code",
   "execution_count": 89,
   "id": "2348c738",
   "metadata": {},
   "outputs": [
    {
     "name": "stdout",
     "output_type": "stream",
     "text": [
      "(2, 2, 3)\n",
      "[[[-1.   0.   1.5]\n",
      "  [-0.5  0.   2. ]]\n",
      "\n",
      " [[ 0.  10.   0. ]\n",
      "  [ 1.   9.   2. ]]]\n",
      "(2, 2)\n",
      "[[-1.  -0.5]\n",
      " [ 0.   1. ]]\n",
      "(2, 1, 2)\n",
      "tf.Tensor(\n",
      "[[[-1.  -0.5]]\n",
      "\n",
      " [[ 0.   1. ]]], shape=(2, 1, 2), dtype=float64)\n"
     ]
    }
   ],
   "source": [
    "#TEST Chamfer loss\n",
    "data_in = np.array([[[-1, 0, 1.5], [-0.5, 0, 2]], [[0, 10, 0], [1, 9, 2]]])\n",
    "print(data_in.shape)\n",
    "print(data_in)\n",
    "\n",
    "data_out = data_in[:,:,0]\n",
    "print(data_out.shape)\n",
    "print(data_out)\n",
    "\n",
    "data_out = tf.expand_dims(data_out, 1)\n",
    "print(data_out.shape)\n",
    "print(data_out)"
   ]
  },
  {
   "cell_type": "code",
   "execution_count": 90,
   "id": "52ef75b4",
   "metadata": {},
   "outputs": [
    {
     "name": "stdout",
     "output_type": "stream",
     "text": [
      "data_in.shape (4, 3)\n",
      "data_out.shape (3, 3)\n",
      "data_in tf.Tensor(\n",
      "[[[-1.   0.   1.5]]\n",
      "\n",
      " [[ 0.5  1.   2.5]]\n",
      "\n",
      " [[ 0.  10.   0. ]]\n",
      "\n",
      " [[ 1.   9.   2. ]]], shape=(4, 1, 3), dtype=float64)\n",
      "data_out tf.Tensor(\n",
      "[[[ 0.  1.  2.]\n",
      "  [ 1. -2.  3.]\n",
      "  [ 3.  0. -4.]]], shape=(1, 3, 3), dtype=float64)\n",
      "sq tf.Tensor(\n",
      "[[[  1.     1.     0.25]\n",
      "  [  4.     4.     2.25]\n",
      "  [ 16.     0.    30.25]]\n",
      "\n",
      " [[  0.25   0.     0.25]\n",
      "  [  0.25   9.     0.25]\n",
      "  [  6.25   1.    42.25]]\n",
      "\n",
      " [[  0.    81.     4.  ]\n",
      "  [  1.   144.     9.  ]\n",
      "  [  9.   100.    16.  ]]\n",
      "\n",
      " [[  1.    64.     0.  ]\n",
      "  [  0.   121.     1.  ]\n",
      "  [  4.    81.    36.  ]]], shape=(4, 3, 3), dtype=float64)\n",
      "sum tf.Tensor(\n",
      "[[  2.25  10.25  46.25]\n",
      " [  0.5    9.5   49.5 ]\n",
      " [ 85.   154.   125.  ]\n",
      " [ 65.   122.   121.  ]], shape=(4, 3), dtype=float64)\n",
      "tf.Tensor([ 0.5   9.5  46.25], shape=(3,), dtype=float64)\n",
      "tf.Tensor([ 2.25  0.5  85.   65.  ], shape=(4,), dtype=float64)\n"
     ]
    }
   ],
   "source": [
    "#TEST Chamfer loss\n",
    "data_in = np.array([[-1, 0, 1.5], [0.5, 1, 2.5], [0, 10, 0], [1, 9, 2]])\n",
    "data_out = np.array([[0., 1, 2], [1, -2, 3], [3, 0, -4]])\n",
    "\n",
    "print(\"data_in.shape\", data_in.shape)\n",
    "print(\"data_out.shape\", data_out.shape)\n",
    "\n",
    "data_in = tf.expand_dims(data_in, 1)\n",
    "data_out = tf.expand_dims(data_out, 0)\n",
    "\n",
    "print(\"data_in\", data_in)\n",
    "print(\"data_out\", data_out)\n",
    "\n",
    "sq = tf.math.squared_difference(data_in, data_out)\n",
    "print(\"sq\", sq)\n",
    "\n",
    "sum = tf.math.reduce_sum(sq, -1)\n",
    "print(\"sum\", sum)\n",
    "\n",
    "print(tf.math.reduce_min(sum, 0))\n",
    "print(tf.math.reduce_min(sum,1))"
   ]
  },
  {
   "cell_type": "code",
   "execution_count": 91,
   "id": "4bc2c7ca",
   "metadata": {},
   "outputs": [
    {
     "name": "stdout",
     "output_type": "stream",
     "text": [
      "data_in.shape (4,)\n",
      "data_out.shape (4,)\n",
      "data_in tf.Tensor(\n",
      "[[-1. ]\n",
      " [-0.5]\n",
      " [ 0. ]\n",
      " [ 1. ]], shape=(4, 1), dtype=float64)\n",
      "data_out tf.Tensor([[ 0.  1.  3. -2.]], shape=(1, 4), dtype=float64)\n",
      "sq tf.Tensor(\n",
      "[[ 1.    4.   16.    1.  ]\n",
      " [ 0.25  2.25 12.25  2.25]\n",
      " [ 0.    1.    9.    4.  ]\n",
      " [ 1.    0.    4.    9.  ]], shape=(4, 4), dtype=float64)\n",
      "sum tf.Tensor([22. 17. 14. 14.], shape=(4,), dtype=float64)\n",
      "tf.Tensor(14.0, shape=(), dtype=float64)\n"
     ]
    }
   ],
   "source": [
    "#TEST Chamfer loss\n",
    "data_in = np.array([-1, -0.5, 0, 1])\n",
    "data_out = np.array([0., 1, 3, -2])\n",
    "\n",
    "print(\"data_in.shape\", data_in.shape)\n",
    "print(\"data_out.shape\", data_out.shape)\n",
    "\n",
    "data_in = tf.expand_dims(data_in, 1)\n",
    "data_out = tf.expand_dims(data_out, 0)\n",
    "\n",
    "print(\"data_in\", data_in)\n",
    "print(\"data_out\", data_out)\n",
    "\n",
    "sq = tf.math.squared_difference(data_in, data_out)\n",
    "print(\"sq\", sq)\n",
    "\n",
    "sum = tf.math.reduce_sum(sq, -1)\n",
    "print(\"sum\", sum)\n",
    "\n",
    "print(tf.math.reduce_min(sum, 0))\n",
    "#print(tf.math.reduce_min(sum,1))"
   ]
  },
  {
   "cell_type": "code",
   "execution_count": 92,
   "id": "f4aa5efa",
   "metadata": {},
   "outputs": [
    {
     "name": "stdout",
     "output_type": "stream",
     "text": [
      "data.shape (4, 2)\n",
      "data [[-1.   2. ]\n",
      " [-0.5  6. ]\n",
      " [ 0.  10. ]\n",
      " [ 1.  18. ]]\n",
      "data_1 [[0. 0. 0.]\n",
      " [0. 0. 0.]\n",
      " [0. 0. 0.]\n",
      " [0. 0. 0.]]\n",
      "data_1 [[ 0.  -1.   2. ]\n",
      " [ 0.  -0.5  6. ]\n",
      " [ 0.   0.  10. ]\n",
      " [ 0.   1.  18. ]]\n"
     ]
    }
   ],
   "source": [
    "#TEST zero padding\n",
    "\n",
    "data = np.array([[-1, 2], [-0.5, 6], [0, 10], [1, 18]])\n",
    "print(\"data.shape\", data.shape)\n",
    "print(\"data\", data)\n",
    "\n",
    "data_1 = np.zeros(shape=(4,3))\n",
    "print(\"data_1\", data_1)\n",
    "\n",
    "data_1[:, 1:3] += data\n",
    "\n",
    "print(\"data_1\", data_1)"
   ]
  },
  {
   "cell_type": "code",
   "execution_count": 93,
   "id": "6acdca0e",
   "metadata": {},
   "outputs": [
    {
     "name": "stdout",
     "output_type": "stream",
     "text": [
      "data.shape (4, 2)\n",
      "[ 3.  1.  9.  2. 12.  3. 22.]\n"
     ]
    }
   ],
   "source": [
    "#TEST sum of elemets if data_1 elements are non-zero\n",
    "data = np.array([[-1, 2], [-0.5, 6], [0, 10], [1, 18]])\n",
    "\n",
    "data_1 = np.array([[0, 1], [1.5, 3], [2, 2], [2, 4]])\n",
    "\n",
    "print(\"data.shape\", data.shape)\n",
    "\n",
    "print(data[np.nonzero(data_1)]+data_1[np.nonzero(data_1)])"
   ]
  },
  {
   "cell_type": "code",
   "execution_count": 94,
   "id": "896235ae",
   "metadata": {},
   "outputs": [
    {
     "name": "stdout",
     "output_type": "stream",
     "text": [
      "data.shape (1, 2, 4, 2)\n",
      "data [[[[-1.   2. ]\n",
      "   [-0.5  6. ]\n",
      "   [ 0.  10. ]\n",
      "   [ 1.  18. ]]\n",
      "\n",
      "  [[-1.   2. ]\n",
      "   [-0.5  6. ]\n",
      "   [ 0.  10. ]\n",
      "   [ 1.  18. ]]]]\n",
      "data_1.shape (1, 2, 4, 2)\n",
      "data_1 [[[[-2.   1. ]\n",
      "   [ 1.5  3. ]\n",
      "   [ 2.   2. ]\n",
      "   [ 2.   4. ]]\n",
      "\n",
      "  [[-3.   2. ]\n",
      "   [-2.5  4. ]\n",
      "   [ 5.   1. ]\n",
      "   [ 3.   1. ]]]]\n",
      "data_2.shape (1, 2, 4, 2)\n",
      "data_2 [[[[ 1.  1.]\n",
      "   [-2.  3.]\n",
      "   [-2.  8.]\n",
      "   [-1. 14.]]\n",
      "\n",
      "  [[ 2.  0.]\n",
      "   [ 2.  2.]\n",
      "   [-5.  9.]\n",
      "   [-2. 17.]]]]\n",
      "data.shape (1, 2, 4, 2)\n",
      "data tf.Tensor(\n",
      "[[[[  1.   1.]\n",
      "   [  4.   9.]\n",
      "   [  4.  64.]\n",
      "   [  1. 196.]]\n",
      "\n",
      "  [[  4.   0.]\n",
      "   [  4.   4.]\n",
      "   [ 25.  81.]\n",
      "   [  4. 289.]]]], shape=(1, 2, 4, 2), dtype=float64)\n"
     ]
    }
   ],
   "source": [
    "#Test mse\n",
    "from tensorflow.keras import backend as K\n",
    "\n",
    "data = np.array([[[[-1, 2], [-0.5, 6], [0, 10], [1, 18]],\n",
    "                  [[-1, 2], [-0.5, 6], [0, 10], [1, 18]]]])\n",
    "\n",
    "data_1 = np.array([[[[-2, 1], [1.5, 3], [2, 2], [2, 4]],\n",
    "                  [[-3, 2], [-2.5, 4], [5, 1], [3, 1]]]])\n",
    "\n",
    "print(\"data.shape\", data.shape)\n",
    "print(\"data\", data)\n",
    "\n",
    "print(\"data_1.shape\", data_1.shape)\n",
    "print(\"data_1\", data_1)\n",
    "\n",
    "data_2 = data-data_1\n",
    "print(\"data_2.shape\", data_2.shape)\n",
    "print(\"data_2\", data_2)\n",
    "\n",
    "data = K.square(data_2)\n",
    "print(\"data.shape\", data.shape)\n",
    "print(\"data\", data)"
   ]
  },
  {
   "cell_type": "code",
   "execution_count": 95,
   "id": "5c0a9891",
   "metadata": {},
   "outputs": [
    {
     "name": "stdout",
     "output_type": "stream",
     "text": [
      "1  (2, 2, 4)\n",
      "1  [[1 4 2 3]\n",
      " [9 2 1 5]]\n",
      "2  tf.Tensor(\n",
      "[[1 4 2 3 9 2 1 5]\n",
      " [2 3 1 5 1 3 4 2]], shape=(2, 8), dtype=int64)\n",
      "2  tf.Tensor([1 4 2 3 9 2 1 5], shape=(8,), dtype=int64)\n",
      "3  tf.Tensor([0 1 2 3 4 5 6 7], shape=(8,), dtype=int64)\n",
      "4  tf.Tensor([1 4 2 3 9 2 1 5], shape=(8,), dtype=int64)\n",
      "5  tf.Tensor(\n",
      "[[1]\n",
      " [4]\n",
      " [2]\n",
      " [3]\n",
      " [9]\n",
      " [2]\n",
      " [1]\n",
      " [5]], shape=(8, 1), dtype=int64)\n",
      "6  tf.Tensor(\n",
      "[[[1]]\n",
      "\n",
      " [[4]]\n",
      "\n",
      " [[2]]\n",
      "\n",
      " [[3]]\n",
      "\n",
      " [[9]]\n",
      "\n",
      " [[2]]\n",
      "\n",
      " [[1]]\n",
      "\n",
      " [[5]]], shape=(8, 1, 1), dtype=int64)\n",
      "7  tf.Tensor(\n",
      "[[[1]\n",
      "  [4]\n",
      "  [2]\n",
      "  [3]\n",
      "  [9]\n",
      "  [2]\n",
      "  [1]\n",
      "  [5]]], shape=(1, 8, 1), dtype=int64)\n",
      "8  tf.Tensor(\n",
      "[[ 0  9  1  4 64  1  0 16]\n",
      " [ 9  0  4  1 25  4  9  1]\n",
      " [ 1  4  0  1 49  0  1  9]\n",
      " [ 4  1  1  0 36  1  4  4]\n",
      " [64 25 49 36  0 49 64 16]\n",
      " [ 1  4  0  1 49  0  1  9]\n",
      " [ 0  9  1  4 64  1  0 16]\n",
      " [16  1  9  4 16  9 16  0]], shape=(8, 8), dtype=int64)\n",
      "9  tf.Tensor([0 0 0 0 0 0 0 0], shape=(8,), dtype=int64)\n",
      "10  tf.Tensor([0 0 0 0 0 0 0 0], shape=(8,), dtype=int64)\n",
      "11  tf.Tensor(0, shape=(), dtype=int64)\n",
      "12  tf.Tensor(0, shape=(), dtype=int64)\n"
     ]
    }
   ],
   "source": [
    "y_true = np.array([[[1,4,2,3], [9,2,1,5]], [[2,3,1,5], [1,3,4,2]]])\n",
    "x_true = np.array([[0,2,0,5]])\n",
    "\n",
    "print(\"1 \", y_true.shape)\n",
    "print(\"1 \", y_true[0])\n",
    " \n",
    "y_true = tf.reshape(y_true, shape=(2, 8))\n",
    "print(\"2 \", y_true)\n",
    "print(\"2 \", y_true[0])\n",
    "\n",
    "idx_keep = tf.where(y_true[0]!=0)[:,-1]\n",
    "print(\"3 \", idx_keep)\n",
    "\n",
    "values_keep = tf.gather(y_true[0,:], idx_keep)\n",
    "print(\"4 \", values_keep)\n",
    "\n",
    "values_keep = tf.reshape(values_keep, shape=(values_keep.shape[0], 1))\n",
    "print(\"5 \", values_keep)\n",
    "\n",
    "expand_inputs = tf.expand_dims(values_keep, 1)\n",
    "print(\"6 \", expand_inputs)\n",
    "\n",
    "expand_outputs = tf.expand_dims(values_keep, 0)\n",
    "print(\"7 \", expand_outputs)\n",
    "\n",
    "distances = tf.math.reduce_sum(tf.math.squared_difference(expand_inputs, expand_outputs), -1)\n",
    "print(\"8 \", distances)\n",
    "\n",
    "min_dist_to_inputs = tf.math.reduce_min(distances, 0)\n",
    "min_dist_to_outputs = tf.math.reduce_min(distances, 1)\n",
    "print(\"9 \", min_dist_to_inputs)\n",
    "print(\"10 \", min_dist_to_outputs)\n",
    "\n",
    "print(\"11 \", tf.math.reduce_mean(min_dist_to_inputs, 0))\n",
    "print(\"12 \", tf.math.reduce_mean(min_dist_to_outputs, 0))"
   ]
  },
  {
   "cell_type": "code",
   "execution_count": 114,
   "id": "950d59f3",
   "metadata": {},
   "outputs": [
    {
     "name": "stdout",
     "output_type": "stream",
     "text": [
      "x tf.Tensor([[[[1. 2. 3.]]]], shape=(1, 1, 1, 3), dtype=float32)\n",
      "x tf.Tensor(\n",
      "[[[[1. 2. 3.]\n",
      "   [1. 2. 3.]]\n",
      "\n",
      "  [[1. 2. 3.]\n",
      "   [1. 2. 3.]]]], shape=(1, 2, 2, 3), dtype=float32)\n",
      "x tf.Tensor(\n",
      "[[[[1. 2. 3. 1. 2. 3.]\n",
      "   [1. 2. 3. 1. 2. 3.]]]], shape=(1, 1, 2, 6), dtype=float32)\n"
     ]
    }
   ],
   "source": [
    "#TEST AveragePooling2D and UpSampling2D\n",
    "\n",
    "x = tf.constant([[[[1., 2., 3.]]]])\n",
    "print(\"x\", x)\n",
    "avg_pool_2d = tf.keras.layers.UpSampling2D((2, 2))\n",
    "\n",
    "x = avg_pool_2d(x)\n",
    "print(\"x\", x)\n",
    "\n",
    "x = tf.reshape(x, [1, 1, 2, 6])\n",
    "print(\"x\", x)"
   ]
  },
  {
   "cell_type": "code",
   "execution_count": 120,
   "id": "248f5a06",
   "metadata": {},
   "outputs": [
    {
     "name": "stdout",
     "output_type": "stream",
     "text": [
      "data_1.shape (2, 4, 3, 2)\n",
      "data_2.shape (1, 1, 3, 2)\n",
      "tf.Tensor([16.125 13.   ], shape=(2,), dtype=float64)\n",
      "tf.Tensor([387. 312.], shape=(2,), dtype=float64)\n",
      "tf.Tensor([23.54166667], shape=(1,), dtype=float64)\n",
      "tf.Tensor([141.25], shape=(1,), dtype=float64)\n"
     ]
    }
   ],
   "source": [
    "#TEST np.sum\n",
    "\n",
    "data_1 = np.array([[[[-1, 2], [-0.5, 6], [0, 10]] , [[-0.5, 1], [-1.5, 2], [1, 4]] , \n",
    "                   [[-1, 2], [-1, 2], [0, 10]] , [[-1, 2], [-1.5, 2], [0, 10]]],\n",
    "                  [[[-0.5, 1], [-0.5, 6], [-0.5, 1]] , [[-0.5, 1], [-0.5, 6], [-0.5, 1]] , \n",
    "                   [[-1, 2], [-1.5, 2], [0, 10]] , [[-1.5, 2], [1, 4], [0, 10]]]\n",
    "                 ])\n",
    "print(\"data_1.shape\", data_1.shape)\n",
    "\n",
    "data_2 = np.array([[[[-1, 2], [-0.5, 6], [0, 10]]]])\n",
    "print(\"data_2.shape\", data_2.shape)\n",
    "\n",
    "print(K.mean(K.square(data_1), axis=[1,2,3]))\n",
    "print(K.sum(K.square(data_1), axis=[1,2,3]))\n",
    "\n",
    "print(K.mean(K.square(data_2), axis=[1,2,3]))\n",
    "print(K.sum(K.square(data_2), axis=[1,2,3]))\n",
    "\n",
    "#print((data1-data2) * (data1-data2))\n",
    "#print(K.mean(K.square(data1-data2), axis = -1))\n",
    "#print(K.sum(K.mean(K.square(data1-data2), axis = -1)))\n",
    "#data1 = data1.sum(axis=2)\n",
    "#print(data1)\n",
    "#data1 = data1.sum(-1)\n",
    "#print(data1.shape)\n",
    "#print(data1)"
   ]
  },
  {
   "cell_type": "code",
   "execution_count": 126,
   "id": "eb1d1825",
   "metadata": {},
   "outputs": [
    {
     "name": "stdout",
     "output_type": "stream",
     "text": [
      "data.shape (2, 4, 2)\n",
      "data [[[1.   0.15]\n",
      "  [0.5  0.65]\n",
      "  [0.   0.75]\n",
      "  [0.35 1.  ]]\n",
      "\n",
      " [[1.   0.15]\n",
      "  [0.5  0.65]\n",
      "  [0.   0.75]\n",
      "  [0.35 2.  ]]]\n",
      "data.shape (16, 1)\n",
      "data [[1.  ]\n",
      " [0.15]\n",
      " [0.5 ]\n",
      " [0.65]\n",
      " [0.  ]\n",
      " [0.75]\n",
      " [0.35]\n",
      " [1.  ]\n",
      " [1.  ]\n",
      " [0.15]\n",
      " [0.5 ]\n",
      " [0.65]\n",
      " [0.  ]\n",
      " [0.75]\n",
      " [0.35]\n",
      " [2.  ]]\n",
      "np.mean(data) 0.6125\n",
      "np.var(data) 0.23484375\n",
      "data_min_ [0.]\n",
      "data_max_ [2.]\n",
      "data.shape (16, 1)\n",
      "data [[0.5  ]\n",
      " [0.075]\n",
      " [0.25 ]\n",
      " [0.325]\n",
      " [0.   ]\n",
      " [0.375]\n",
      " [0.175]\n",
      " [0.5  ]\n",
      " [0.5  ]\n",
      " [0.075]\n",
      " [0.25 ]\n",
      " [0.325]\n",
      " [0.   ]\n",
      " [0.375]\n",
      " [0.175]\n",
      " [1.   ]]\n",
      "data.shape (2, 4, 2)\n",
      "data [[[0.5   0.075]\n",
      "  [0.25  0.325]\n",
      "  [0.    0.375]\n",
      "  [0.175 0.5  ]]\n",
      "\n",
      " [[0.5   0.075]\n",
      "  [0.25  0.325]\n",
      "  [0.    0.375]\n",
      "  [0.175 1.   ]]]\n",
      "np.mean(data) 0.30625\n",
      "np.var(data) 0.0587109375\n"
     ]
    }
   ],
   "source": [
    "#TEST MinMaxScaler\n",
    "\n",
    "data = np.array([[[1, 0.15], [0.5, 0.65], [0, 0.75], [0.35, 1]], [[1, 0.15], [0.5, 0.65], [0, 0.75], [0.35, 2]]])\n",
    "\n",
    "print(\"data.shape\", data.shape)\n",
    "print(\"data\", data)\n",
    "\n",
    "data = data.reshape(-1, 1)\n",
    "\n",
    "print(\"data.shape\", data.shape)\n",
    "print(\"data\", data)\n",
    "\n",
    "print(\"np.mean(data)\", np.mean(data))\n",
    "print(\"np.var(data)\", np.var(data))\n",
    "\n",
    "scaler = MinMaxScaler()\n",
    "scaler.fit(data)\n",
    "print(\"data_min_\", scaler.data_min_)\n",
    "print(\"data_max_\", scaler.data_max_)\n",
    "\n",
    "data = scaler.transform(data)\n",
    "print(\"data.shape\", data.shape)\n",
    "print(\"data\", data)\n",
    "\n",
    "data = data.reshape(2, 4, 2)\n",
    "print(\"data.shape\", data.shape)\n",
    "print(\"data\", data)\n",
    "\n",
    "print(\"np.mean(data)\", np.mean(data))\n",
    "print(\"np.var(data)\", np.var(data))"
   ]
  },
  {
   "cell_type": "code",
   "execution_count": 130,
   "id": "10cfaf75",
   "metadata": {},
   "outputs": [
    {
     "name": "stdout",
     "output_type": "stream",
     "text": [
      "i  0 stop  25\n",
      "[1 2]\n",
      "[3 4]\n",
      "[5 6]\n"
     ]
    }
   ],
   "source": [
    "#TEST generator\n",
    "\n",
    "def count(stop):\n",
    "    i = 0\n",
    "    print(\"i \", i, \"stop \", stop)\n",
    "    while i < stop:\n",
    "        i += 1\n",
    "        yield i\n",
    "\n",
    "counter = tf.data.Dataset.from_generator(count, args=[25], output_types=tf.int32, output_shapes = (), )\n",
    "\n",
    "for count_batch in counter.repeat().batch(2).take(3):\n",
    "  print(count_batch.numpy())"
   ]
  },
  {
   "cell_type": "code",
   "execution_count": 131,
   "id": "f61bf65c",
   "metadata": {},
   "outputs": [
    {
     "name": "stdout",
     "output_type": "stream",
     "text": [
      "280.0\n",
      "3.141592653589793\n"
     ]
    }
   ],
   "source": [
    "#TEST ECAL/HCAL binning \n",
    "\n",
    "import math\n",
    "\n",
    "print(2.443*2/(1*0.01745))\n",
    "print(math.pi)\n",
    "for x in range(-145, -146):\n",
    "    print(x, x * 1*0.01745)"
   ]
  },
  {
   "cell_type": "code",
   "execution_count": 136,
   "id": "614e13b1",
   "metadata": {},
   "outputs": [
    {
     "name": "stdout",
     "output_type": "stream",
     "text": [
      "[-0.82373047 -0.30102539 -0.18713379 -0.12493896 -0.45581055 -0.82373047\n",
      " -0.30102539 -0.18713379 -0.12493896 -0.45581055]\n"
     ]
    }
   ],
   "source": [
    "#TEST log10\n",
    "\n",
    "data = np.array([[[1, 0.15], [0.5, 0.65], [0, 0.75], [0.35, 1]], [[1, 0.15], [0.5, 0.65], [0, 0.75], [0.35, 1]]])\n",
    "\n",
    "data = np.log10(data, out=np.zeros_like(data), where=(data!=0), dtype=np.float16)\n",
    "\n",
    "print(data[np.nonzero(data)])"
   ]
  },
  {
   "cell_type": "code",
   "execution_count": 137,
   "id": "64fb681c",
   "metadata": {},
   "outputs": [
    {
     "name": "stdout",
     "output_type": "stream",
     "text": [
      "x [[1. 4.]\n",
      " [2. 3.]]\n",
      "x [[0.         0.60205078]\n",
      " [0.30102539 0.47705078]]\n"
     ]
    }
   ],
   "source": [
    "#TEST log10\n",
    "x = np.array([[1., 4.], [2., 3.]])\n",
    "print(\"x\", x)\n",
    "\n",
    "x = np.log10(x, where=(x!=1), out=np.zeros_like(x), dtype=np.float16)\n",
    "print(\"x\", x)"
   ]
  },
  {
   "cell_type": "code",
   "execution_count": null,
   "id": "d727ae1d",
   "metadata": {},
   "outputs": [],
   "source": []
  }
 ],
 "metadata": {
  "kernelspec": {
   "display_name": "Python 3 (ipykernel)",
   "language": "python",
   "name": "python3"
  },
  "language_info": {
   "codemirror_mode": {
    "name": "ipython",
    "version": 3
   },
   "file_extension": ".py",
   "mimetype": "text/x-python",
   "name": "python",
   "nbconvert_exporter": "python",
   "pygments_lexer": "ipython3",
   "version": "3.8.8"
  }
 },
 "nbformat": 4,
 "nbformat_minor": 5
}
